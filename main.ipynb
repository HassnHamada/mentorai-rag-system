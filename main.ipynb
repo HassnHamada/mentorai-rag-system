{
 "cells": [
  {
   "cell_type": "code",
   "execution_count": null,
   "metadata": {},
   "outputs": [],
   "source": [
    "from src import VectorDB\n",
    "from weaviate.classes.config import Configure\n",
    "import json\n",
    "import os\n",
    "import time\n",
    "import weaviate\n",
    "import weaviate.classes as wvc\n",
    "from weaviate import WeaviateClient\n",
    "from weaviate.classes.config import Configure\n",
    "from dotenv import find_dotenv, load_dotenv\n",
    "import os\n",
    "from typing import List, Dict, Set, AnyStr\n",
    "import pandas as pd\n",
    "from langchain.vectorstores.weaviate import Weaviate  \n",
    "from langchain.llms import Cohere  \n",
    "from langchain.chains import ChatVectorDBChain  \n",
    "import cohere\n"
   ]
  },
  {
   "cell_type": "code",
   "execution_count": null,
   "metadata": {},
   "outputs": [],
   "source": [
    "load_dotenv(find_dotenv())"
   ]
  },
  {
   "cell_type": "code",
   "execution_count": null,
   "metadata": {},
   "outputs": [],
   "source": [
    "wcd_url = os.getenv(\"WCD_URL\")\n",
    "wcd_api_key = os.getenv(\"WCD_API_KEY\")\n",
    "cohere_key = os.getenv(\"COHERE_KEY\")"
   ]
  },
  {
   "cell_type": "code",
   "execution_count": null,
   "metadata": {},
   "outputs": [],
   "source": [
    "class VectorDB:\n",
    "    def __init__(self, client: WeaviateClient):\n",
    "        print(\"Connecting to Weaviate\")\n",
    "        self.client = client\n",
    "        self.cohere = cohere.ClientV2(cohere_key)\n",
    "\n",
    "    def create_collection(self, collection_name, **config):\n",
    "        if not self.client.collections.exists(collection_name):\n",
    "            print(\"Creating collection\")\n",
    "            self.client.collections.create(\n",
    "                collection_name,\n",
    "                **config,\n",
    "            )\n",
    "        else:\n",
    "            print(\"Collection already exists\")\n",
    "\n",
    "    def insert_data(self, collection_name, data: Dict[AnyStr, Dict[AnyStr, AnyStr]], key_field=\"custom_id\"):\n",
    "        collection = self.client.collections.get(collection_name)\n",
    "        with collection.batch.dynamic() as batch:\n",
    "            for k, src_obj in data.items():\n",
    "                weaviate_obj = src_obj | {key_field: k}\n",
    "                batch.add_object(\n",
    "                    properties=weaviate_obj,\n",
    "                )\n",
    "\n",
    "        if len(collection.batch.failed_objects):\n",
    "            print(collection.batch.failed_objects)\n",
    "            raise Exception(\"Failed to insert data\")\n",
    "\n",
    "    def search_data(self, collection_name, query: str, limit: int = 10):\n",
    "        collection = self.client.collections.get(collection_name)\n",
    "        response = collection.query.near_text(query=query, limit=limit)\n",
    "        return response\n",
    "\n",
    "    def generate(self, collection_name, query, limit=10, *, single_prompt=None, grouped_task=None):\n",
    "        collection = self.client.collections.get(collection_name)\n",
    "        response = collection.generate.near_text(\n",
    "            query=query,\n",
    "            limit=limit,\n",
    "            single_prompt=single_prompt,\n",
    "            grouped_task=grouped_task,\n",
    "            grouped_properties=['title', 'description',\n",
    "                                # 'skills', 'difficulty',\n",
    "                                'course_id']\n",
    "        )\n",
    "        return response\n",
    "\n",
    "    def get_roadmap(self, collection_name, query, knowledge, limit=10):\n",
    "        json_example = \"\"\"\n",
    "{\n",
    "  \"courses\": [\n",
    "    \"SGDf_rbfmFSHlxI-Czzlz\",\n",
    "    \"tG5v3O4lNIFc2uCnacPak\",\n",
    "    \"HdWq9ue0JdwmwqSIN2OD_\"\n",
    "  ]\n",
    "}\n",
    "\"\"\"\n",
    "        data = self.search_data(collection_name, query, limit=limit)\n",
    "        courses = list()\n",
    "        for obj in data.objects:\n",
    "            # print(obj.properties['course_id'])\n",
    "            course_id = obj.properties['course_id']\n",
    "            title = obj.properties['title']\n",
    "            description = obj.properties['description'].replace('\\n', ' ').strip()\n",
    "            courses.append({'id': course_id, 'title': title, 'description': description})\n",
    "        task = f\"\"\"You are tasked with creating a roadmap for {query}.\n",
    "This is the user description of what they know you should take it into account If the user already know something then the respond shpould not include it.\n",
    "USER KNOWLEDGE: {knowledge}\n",
    "\n",
    "This is a list of the avilable courses: {courses}.\n",
    "Your task is to return a proper json object containg the ids of the relevant courses example: {json_example}\n",
    "Make sure the json object is valid json and to respond only with course ids.\"\"\"\n",
    "        response = self.cohere.chat(\n",
    "            model=\"command-r-plus-08-2024\",\n",
    "            messages=[\n",
    "                {\n",
    "                    \"role\": \"user\",\n",
    "                    \"content\": task\n",
    "                }\n",
    "            ],\n",
    "            temperature=0,\n",
    "            response_format={\"type\": \"json_object\"},\n",
    "        )\n",
    "        return response\n",
    "        # return task, documents\n",
    "\n",
    "#     def get_roadmap_prompt(self, collection_name, query, knowledge, limit=10):\n",
    "#         json_example = \"\"\"\n",
    "# {\n",
    "#   \"courses\": [\n",
    "#     \"SGDf_rbfmFSHlxI-Czzlz\",\n",
    "#     \"tG5v3O4lNIFc2uCnacPak\",\n",
    "#     \"HdWq9ue0JdwmwqSIN2OD_\"\n",
    "#   ]\n",
    "# }\n",
    "# \"\"\"\n",
    "#         task = f\"\"\"\n",
    "# You are tasked with creating a roadmap for {query}.\n",
    "# This is the user description of what they already know. You should take it into account If the user already know something then the respond should NOT include it.\n",
    "# USER KNOWLEDGE: {knowledge}\n",
    "\n",
    "# You will be given a group of the avilable courses.\n",
    "# Your task is to return a proper json object containg the ids of the relevant courses example: {json_example}\n",
    "# Make sure the json object is valid json and to respond only with course ids.\n",
    "# \"\"\"\n",
    "\n",
    "    def chat(self, collection_name, query, knowledge, limit):\n",
    "        client = weaviate.Client(\"http://localhost:8080\")\n",
    "\n",
    "        vectorstore = Weaviate(client, collection_name, \"description\")\n",
    "        cohere = Cohere(temperature=0,\n",
    "                        cohere_api_key=cohere_key)\n",
    "\n",
    "        qa = ChatVectorDBChain.from_llm(cohere, vectorstore)\n",
    "        response, prompt = self.get_roadmap(\n",
    "            collection_name, query, knowledge, limit)\n",
    "        query = yield response\n",
    "        objs = list(dict(\n",
    "            title=obj.properties['title'],\n",
    "            description=obj.properties['description'],\n",
    "            # skills=obj.properties['skills'],\n",
    "            # difficulty=obj.properties['difficulty'],\n",
    "            course_id=obj.properties['course_id'],\n",
    "        ) for obj in response.objects)\n",
    "        chat_history = [(f'{prompt}\\n{objs}', response.generated)]\n",
    "\n",
    "        while True:\n",
    "            # query = input(\"\")\n",
    "            response = qa({\"question\": query, \"chat_history\": chat_history})\n",
    "            # print(result[\"answer\"])\n",
    "            query = yield response\n",
    "            chat_history.append((query, response[\"answer\"]))\n",
    "\n",
    "    def get_by_uuid(self, collection_name, uuid):\n",
    "        collection = self.client.collections.get(collection_name)\n",
    "        return collection.query.fetch_object_by_id(uuid)\n",
    "\n",
    "    def delete_collection(self, collection_name):\n",
    "        if not self.client.collections.exists(collection_name):\n",
    "            self.client.collections.delete(collection_name)\n",
    "            print(\"Collection deleted\")\n",
    "        else:\n",
    "            print(\"Collection does not exist\")\n",
    "\n",
    "    def delete_all(self):\n",
    "        self.client.collections.delete_all()\n",
    "\n",
    "    def close(self):\n",
    "        self.client.close()"
   ]
  },
  {
   "cell_type": "code",
   "execution_count": null,
   "metadata": {},
   "outputs": [],
   "source": [
    "# cloud_client = weaviate.connect_to_wcs(\n",
    "#     cluster_url=wcd_url,\n",
    "#     auth_credentials=wvc.init.Auth.api_key(wcd_api_key),\n",
    "#     headers={\"X-Cohere-Api-Key\": cohere_key}\n",
    "# )\n",
    "local_client = weaviate.connect_to_local(\n",
    "    # skip_init_checks=True,\n",
    "    # headers={\"X-Cohere-Api-Key\": cohere_key}\n",
    ")"
   ]
  },
  {
   "cell_type": "code",
   "execution_count": null,
   "metadata": {},
   "outputs": [],
   "source": [
    "db = VectorDB(local_client)"
   ]
  },
  {
   "cell_type": "code",
   "execution_count": null,
   "metadata": {},
   "outputs": [],
   "source": [
    "# collection_name = \"Coursera\"\n",
    "# collection_name = \"Coursera2\"\n",
    "collection_name = \"Courses\"\n",
    "# collection_name = \"Courses2\"\n",
    "# collection_name = \"Test\""
   ]
  },
  {
   "cell_type": "code",
   "execution_count": null,
   "metadata": {},
   "outputs": [],
   "source": [
    "# df = pd.read_csv('./Coursera_id.csv', index_col=0)\n",
    "df = pd.read_excel('./data_cleaning.xlsx', index_col=0)\n",
    "df.head()"
   ]
  },
  {
   "cell_type": "code",
   "execution_count": null,
   "metadata": {},
   "outputs": [],
   "source": [
    "df.rename(columns={'Course Name': 'title',\n",
    "                   'University': 'university',\n",
    "                   'Difficulty Level': 'difficulty',\n",
    "                   'Course Rating': 'rating',\n",
    "                   'Course URL': 'url',\n",
    "                   'Course Description': 'description',\n",
    "                   'Skills': 'skills',\n",
    "                   }, inplace=True)\n",
    "df.head()"
   ]
  },
  {
   "cell_type": "code",
   "execution_count": null,
   "metadata": {},
   "outputs": [],
   "source": [
    "import random\n",
    "import string\n",
    "\n",
    "def generate_unique_id():\n",
    "    characters = string.ascii_letters + string.digits + '_-'\n",
    "    return ''.join(random.choice(characters) for _ in range(21))\n",
    "\n",
    "def generate_unique_ids(n):\n",
    "    unique_ids = set()\n",
    "    while len(unique_ids) < n:\n",
    "        new_id = generate_unique_id()\n",
    "        if new_id not in unique_ids:\n",
    "            unique_ids.add(new_id)\n",
    "    return list(unique_ids)\n",
    "\n",
    "# Assuming df is your DataFrame and you want to generate IDs for all rows\n",
    "num_rows = len(df)\n",
    "df['id'] = generate_unique_ids(num_rows)\n"
   ]
  },
  {
   "cell_type": "code",
   "execution_count": null,
   "metadata": {},
   "outputs": [],
   "source": [
    "df.head()"
   ]
  },
  {
   "cell_type": "code",
   "execution_count": null,
   "metadata": {},
   "outputs": [],
   "source": [
    "df.drop_duplicates(['description'], inplace=True, keep='first')\n",
    "df.head()"
   ]
  },
  {
   "cell_type": "code",
   "execution_count": null,
   "metadata": {},
   "outputs": [],
   "source": [
    "df.to_csv('./Coursera_id.csv')"
   ]
  },
  {
   "cell_type": "code",
   "execution_count": null,
   "metadata": {},
   "outputs": [],
   "source": [
    "config = dict(\n",
    "    vectorizer_config=[Configure.NamedVectors.text2vec_transformers(\n",
    "        name=\"courses_vector\",\n",
    "        source_properties=[\"title\", \"description\", 'skills']\n",
    "    )],\n",
    "    generative_config=Configure.Generative.cohere(temperature=0)\n",
    ")"
   ]
  },
  {
   "cell_type": "code",
   "execution_count": null,
   "metadata": {},
   "outputs": [],
   "source": [
    "db.delete_collection(collection_name)"
   ]
  },
  {
   "cell_type": "code",
   "execution_count": null,
   "metadata": {},
   "outputs": [],
   "source": [
    "db.create_collection(collection_name, **config)"
   ]
  },
  {
   "cell_type": "code",
   "execution_count": null,
   "metadata": {},
   "outputs": [],
   "source": [
    "db.client.collections.list_all()"
   ]
  },
  {
   "cell_type": "code",
   "execution_count": null,
   "metadata": {},
   "outputs": [],
   "source": [
    "# courses_dict = df.head().to_dict(orient='index')\n",
    "# courses_dict\n",
    "courses_dict = df.to_dict(orient='index')"
   ]
  },
  {
   "cell_type": "code",
   "execution_count": null,
   "metadata": {},
   "outputs": [],
   "source": [
    "db.insert_data(collection_name, courses_dict, \"course_id\")"
   ]
  },
  {
   "cell_type": "code",
   "execution_count": null,
   "metadata": {},
   "outputs": [],
   "source": [
    "response = db.search_data(collection_name, \"html css and js\", limit=30)\n",
    "documents = list()\n",
    "for obj in response.objects:\n",
    "    # print(obj.properties['course_id'])\n",
    "    course_id = obj.properties['course_id']\n",
    "    title = obj.properties['title']\n",
    "    description = obj.properties['description'].replace('\\n', ' ').strip()\n",
    "    links = obj.properties['links']\n",
    "    documents.append({'id': course_id, 'data': {'title': title,\n",
    "                                                'description': description}})\n",
    "    print(course_id, ' ' * (30 - len(course_id)), title, ' ' * (30 - len(title)), links)\n",
    "    # print(obj.properties['course_id'], ' ' * (30 - len(obj.properties['title'])), obj.properties['title'], ' ' * (30 - len(obj.properties['title'])), obj.properties['description'], ' ' * (800 - len(obj.properties['description'])), obj.properties['links'])"
   ]
  },
  {
   "cell_type": "code",
   "execution_count": null,
   "metadata": {},
   "outputs": [],
   "source": [
    "response, prompt = db.get_roadmap(collection_name, \"frontend with react\", \"I have no prior knowlgde in react. But I already know HTML, CSS, and JavaScript\", limit=30)"
   ]
  },
  {
   "cell_type": "code",
   "execution_count": null,
   "metadata": {},
   "outputs": [],
   "source": [
    "objs = list(dict(\n",
    "    title=obj.properties['title'],\n",
    "    description=obj.properties['description'],\n",
    "    skills=obj.properties['skills'],\n",
    "    difficulty=obj.properties['difficulty'],\n",
    "    course_id=obj.properties['course_id'],\n",
    " ) for obj in response.objects)\n",
    "objs"
   ]
  },
  {
   "cell_type": "code",
   "execution_count": null,
   "metadata": {},
   "outputs": [],
   "source": [
    "print(f'{prompt}\\n{objs}')"
   ]
  },
  {
   "cell_type": "code",
   "execution_count": null,
   "metadata": {},
   "outputs": [],
   "source": [
    "chat = db.chat(collection_name, \"frontend with react\", \"I know basic html and js I've worked on them multible timesbut I need a some more info on CSS\", limit=30)"
   ]
  },
  {
   "cell_type": "code",
   "execution_count": null,
   "metadata": {},
   "outputs": [],
   "source": [
    "response = next(chat)"
   ]
  },
  {
   "cell_type": "code",
   "execution_count": null,
   "metadata": {},
   "outputs": [],
   "source": [
    "# import json\n",
    "\n",
    "response = chat.send(\"I see there is a course with name Writing CSS and id DfrCkbD-HEHwLymv10zb5. why did you not recomand this?\")\n",
    "json_data = json.dumps(response)\n",
    "with open('_.json', 'w') as file:\n",
    "    file.write(json_data)\n"
   ]
  },
  {
   "cell_type": "code",
   "execution_count": null,
   "metadata": {},
   "outputs": [],
   "source": [
    "response = db.get_roadmap(collection_name, \"cyber securty\", \"\", limit=30)"
   ]
  },
  {
   "cell_type": "code",
   "execution_count": null,
   "metadata": {},
   "outputs": [],
   "source": [
    "response"
   ]
  },
  {
   "cell_type": "code",
   "execution_count": null,
   "metadata": {},
   "outputs": [],
   "source": [
    "data_dict = json.loads(response.message.content[0].text)\n",
    "courses = data_dict['courses']\n",
    "for i in courses:\n",
    "    course_id = i\n",
    "    try:\n",
    "        title = df.loc[i]['title']\n",
    "    except KeyError:\n",
    "        print(f'\\033[91mKey{i} not found\\033[0m')\n",
    "        continue\n",
    "    description = df.loc[i]['description'].replace('\\n', ' ').strip()\n",
    "    print(course_id, ' ' * (30 - len(course_id)), title, ' ' * (30 - len(title)), description)"
   ]
  },
  {
   "cell_type": "code",
   "execution_count": null,
   "metadata": {},
   "outputs": [],
   "source": [
    "print(response.message.content[0].text)"
   ]
  },
  {
   "cell_type": "code",
   "execution_count": null,
   "metadata": {},
   "outputs": [],
   "source": [
    "# print(dir(response.objects[0]))\n",
    "# print(response.objects[0].collection)\n",
    "# print(response.objects[0].generated)\n",
    "# print(response.objects[0].metadata)\n",
    "# print(response.objects[0].properties)\n",
    "# print(response.objects[0].references)\n",
    "# print(response.objects[0].uuid)\n",
    "# print(response.objects[0].vector)\n",
    "print(response.generated)\n",
    "\n",
    "\n",
    "# \"\"\"I know HTML, CSS, JS, I worked on three projects using those languages.\"\"\"\n"
   ]
  },
  {
   "cell_type": "code",
   "execution_count": null,
   "metadata": {},
   "outputs": [],
   "source": [
    "data_dict = {\n",
    "  \"courses\": [\n",
    "    \"tG5v3O4lNIFc2uCnacPak\",\n",
    "    \"PCirR2QiFYO89Fm-Ev3o1\",\n",
    "    \"wQSjQqwKHfn5RGPk34BWI\",\n",
    "    \"hU5OCnEe3tG206xuGsVFd\",\n",
    "    \"aqMaEY8gkKMikiqleV5EP\",\n",
    "    \"vpko5Kyf6BZ5MHpxXOKaf\",\n",
    "    \"8-lO-v6jCYYoklEJXULxN\",\n",
    "    \"z1-eP4sV75GBEIdM4NvL9\",\n",
    "    \"ruoFa3M4bUE3Dg6GXSiUI\",\n",
    "    \"tObmzWpjsJtK4GWhx6pwB\",\n",
    "    \"KMA7NkxFbPoUDtFnGBFnj\",\n",
    "    \"yWG2VUkaF5IJVVut6AiSy\",\n",
    "    \"ZhSuu2VArnzPDp6dPQQSC\",\n",
    "    \"VlNNwIEDWqQXtqkHWJYzC\",\n",
    "    \"fekyMpEnaGqjh1Cu4Nyc4\",\n",
    "    \"zNFYAJaSq0YZXL5Rpx1NX\",\n",
    "    \"z5AdThp9ByulmM9uekgm-\",\n",
    "    \"R12sArWVpbIs_PHxBqVaR\",\n",
    "    \"hkxw9jPGYphmjhTjw8766\",\n",
    "    \"ODcfFEorkfJNupoQygM53\",\n",
    "    \"qmTVMJDsEhNIkiwE_UTYu\"\n",
    "  ]\n",
    "}"
   ]
  },
  {
   "cell_type": "code",
   "execution_count": null,
   "metadata": {},
   "outputs": [],
   "source": [
    "\n",
    "# import json\n",
    "\n",
    "# json_string = '''\n",
    "# {\n",
    "#     \"courses\": [\n",
    "#         \"PCirR2QiFYO89Fm-Ev3o1\",\n",
    "#         \"D1IXOBUrrXf5bXhVu9cmI\",\n",
    "#         \"aqMaEY8gkKMikiqleV5EP\",\n",
    "#         \"P82WFaTPgQEPNp5IIuZ1Y\",\n",
    "#         \"fekyMpEnaGqjh1Cu4Nyc4\",\n",
    "#         \"rImbMHLLfJwjf3l25vBkc\",\n",
    "#         \"jHKCLfLml8oZyj4829gx0\",\n",
    "#         \"5iJOE1QxMvf8BQ_8ssiI8\",\n",
    "#         \"0NJDgfe6eMa7qPUOI6Eya\",\n",
    "#         \"dEsTje8kfHwWjCI3zcgLC\"\n",
    "#     ]\n",
    "# }\n",
    "# '''\n",
    "\n",
    "\n",
    "\n",
    "data_dict = json.loads(response.message.content[0].text)\n",
    "print(data_dict)\n"
   ]
  },
  {
   "cell_type": "code",
   "execution_count": null,
   "metadata": {},
   "outputs": [],
   "source": [
    "prompt"
   ]
  },
  {
   "cell_type": "code",
   "execution_count": null,
   "metadata": {},
   "outputs": [],
   "source": [
    "courses = data_dict['courses']"
   ]
  },
  {
   "cell_type": "code",
   "execution_count": null,
   "metadata": {},
   "outputs": [],
   "source": [
    "for i in courses:\n",
    "    # print(df.loc[i]['title'], ' ' * (60 - len(df.loc[i]['title'])), df.loc[i]['difficulty'], ' ' * (20 - len(df.loc[i]['difficulty'])), df.loc[i]['skills'])\n",
    "    # print(df.loc[i]['title'], ' ' * (60 - len(df.loc[i]['title'])), df.loc[i]['description'])\n",
    "    course_id = i\n",
    "    try:\n",
    "        title = df.loc[i]['title']\n",
    "    except KeyError:\n",
    "        print(f'\\033[91mKey{i} not found\\033[0m')\n",
    "        continue\n",
    "    # difficulty = df.loc[i]['difficulty']\n",
    "    description = df.loc[i]['description'].replace('\\n', ' ').strip()\n",
    "    # print(course_id, ' ' * (30 - len(course_id)), title, ' ' * (80 - len(title)), difficulty, ' ' * (20 - len(difficulty)), description)\n",
    "    print(course_id, ' ' * (30 - len(course_id)), title, ' ' * (30 - len(title)), description)\n",
    "    # print(df.loc[i])\n",
    "\n",
    "# 1- DO you know CSS? 1, 2, 3, 4, 5 -> 5\n",
    "# 2- DO you know HTML? 1, 2, 3, 4, 5 -> 5\n",
    "# 3- DO you know JS? 1, 2, 3, 4, 5 -> 5\n"
   ]
  },
  {
   "cell_type": "code",
   "execution_count": null,
   "metadata": {},
   "outputs": [],
   "source": [
    "for obj in response.objects:\n",
    "    print(obj.properties['title'])\n",
    "    print(obj.generated)\n",
    "    print('-'*100)\n",
    "    # break"
   ]
  },
  {
   "cell_type": "code",
   "execution_count": null,
   "metadata": {},
   "outputs": [],
   "source": [
    "from langchain.vectorstores.weaviate import Weaviate  \n",
    "from langchain.llms import OpenAI  \n",
    "from langchain.chains import ChatVectorDBChain  \n",
    "import weaviate  \n",
    "  \n",
    "  \n",
    "vectorstore = Weaviate(\"PodClip\", \"content\")  \n",
    "  \n",
    "MyOpenAI = OpenAI(temperature=0.2,  \n",
    "    openai_api_key=\"sk-key\")  \n",
    "  \n",
    "qa = ChatVectorDBChain.from_llm(MyOpenAI, vectorstore)  \n",
    "  \n",
    "chat_history = []  \n",
    "  \n",
    "print(\"Welcome to the Weaviate ChatVectorDBChain Demo!\")  \n",
    "print(\"Please enter a question or dialogue to get started!\")  \n",
    "  \n",
    "while True:  \n",
    "    query = input(\"\")  \n",
    "    result = qa({\"question\": query, \"chat_history\": chat_history})  \n",
    "    print(result[\"answer\"])  \n",
    "    chat_history = [(query, result[\"answer\"])]  \n"
   ]
  }
 ],
 "metadata": {
  "kernelspec": {
   "display_name": ".venv",
   "language": "python",
   "name": "python3"
  },
  "language_info": {
   "codemirror_mode": {
    "name": "ipython",
    "version": 3
   },
   "file_extension": ".py",
   "mimetype": "text/x-python",
   "name": "python",
   "nbconvert_exporter": "python",
   "pygments_lexer": "ipython3",
   "version": "3.10.5"
  }
 },
 "nbformat": 4,
 "nbformat_minor": 2
}
